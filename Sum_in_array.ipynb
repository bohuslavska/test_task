{
 "cells": [
  {
   "cell_type": "markdown",
   "id": "3982663e",
   "metadata": {},
   "source": [
    "## Sum in array"
   ]
  },
  {
   "cell_type": "markdown",
   "id": "40958a79",
   "metadata": {},
   "source": [
    "### First function"
   ]
  },
  {
   "cell_type": "code",
   "execution_count": 1,
   "id": "71e422e4",
   "metadata": {},
   "outputs": [],
   "source": [
    "import time"
   ]
  },
  {
   "cell_type": "code",
   "execution_count": 2,
   "id": "8e261d23",
   "metadata": {},
   "outputs": [],
   "source": [
    "#Let's create the first function and measure the time of its execution.\n",
    "\n",
    "def sum_in_array1(arr, arr_size, given_sum):\n",
    "    solution_list = []\n",
    "    for i in range(0, arr_size - 1):\n",
    "        for j in range(i + 1, arr_size):\n",
    "            if (arr[i] + arr[j] == given_sum):\n",
    "                solution_list.extend([arr[i], arr[j]])\n",
    "                return solution_list\n",
    "    return [-1]"
   ]
  },
  {
   "cell_type": "code",
   "execution_count": 3,
   "id": "4f708a30",
   "metadata": {},
   "outputs": [
    {
     "name": "stdout",
     "output_type": "stream",
     "text": [
      "CPU times: user 60 µs, sys: 0 ns, total: 60 µs\n",
      "Wall time: 62.9 µs\n"
     ]
    },
    {
     "data": {
      "text/plain": [
       "[200, 50]"
      ]
     },
     "execution_count": 3,
     "metadata": {},
     "output_type": "execute_result"
    }
   ],
   "source": [
    "%%time\n",
    "\n",
    "arr = [-100, 200, -3, 50]\n",
    "arr_size = len(arr)\n",
    "given_sum = 250\n",
    "\n",
    "sum_in_array1(arr, arr_size, given_sum)"
   ]
  },
  {
   "cell_type": "code",
   "execution_count": 4,
   "id": "3c77a7fd",
   "metadata": {},
   "outputs": [
    {
     "name": "stdout",
     "output_type": "stream",
     "text": [
      "CPU times: user 25 µs, sys: 1e+03 ns, total: 26 µs\n",
      "Wall time: 27.9 µs\n"
     ]
    },
    {
     "data": {
      "text/plain": [
       "[-1]"
      ]
     },
     "execution_count": 4,
     "metadata": {},
     "output_type": "execute_result"
    }
   ],
   "source": [
    "%%time\n",
    "\n",
    "arr = [-100, 200, -3, 50]\n",
    "arr_size = len(arr)\n",
    "given_sum = 1000\n",
    "\n",
    "sum_in_array1(arr, arr_size, given_sum)"
   ]
  },
  {
   "cell_type": "markdown",
   "id": "c618631f",
   "metadata": {},
   "source": [
    "### Second function"
   ]
  },
  {
   "cell_type": "code",
   "execution_count": 5,
   "id": "8104fba5",
   "metadata": {},
   "outputs": [],
   "source": [
    "#Let's create the second function and measure the time of its execution.\n",
    "\n",
    "def sum_in_array2(arr, given_sum):\n",
    "    dictionary = {}\n",
    "    for i, value in enumerate(arr):\n",
    "        rest = given_sum - arr[i]       \n",
    "        if rest in dictionary:\n",
    "            return [arr[i], arr[dictionary[rest]]]\n",
    "        else:\n",
    "            dictionary[value] = i            \n",
    "    return [-1]"
   ]
  },
  {
   "cell_type": "code",
   "execution_count": 6,
   "id": "0472d4b1",
   "metadata": {},
   "outputs": [
    {
     "name": "stdout",
     "output_type": "stream",
     "text": [
      "CPU times: user 19 µs, sys: 0 ns, total: 19 µs\n",
      "Wall time: 21.9 µs\n"
     ]
    },
    {
     "data": {
      "text/plain": [
       "[50, 200]"
      ]
     },
     "execution_count": 6,
     "metadata": {},
     "output_type": "execute_result"
    }
   ],
   "source": [
    "%%time\n",
    "\n",
    "arr = [-100, 200, -3, 50]\n",
    "given_sum = 250\n",
    "\n",
    "sum_in_array2(arr, given_sum)"
   ]
  },
  {
   "cell_type": "code",
   "execution_count": 7,
   "id": "845698cb",
   "metadata": {},
   "outputs": [
    {
     "name": "stdout",
     "output_type": "stream",
     "text": [
      "CPU times: user 22 µs, sys: 1e+03 ns, total: 23 µs\n",
      "Wall time: 25 µs\n"
     ]
    },
    {
     "data": {
      "text/plain": [
       "[-1]"
      ]
     },
     "execution_count": 7,
     "metadata": {},
     "output_type": "execute_result"
    }
   ],
   "source": [
    "%%time\n",
    "\n",
    "arr = [-100, 200, -3, 50]\n",
    "given_sum = 1000\n",
    "\n",
    "sum_in_array2(arr, given_sum)"
   ]
  },
  {
   "cell_type": "markdown",
   "id": "744250a6",
   "metadata": {},
   "source": [
    "## Conclusion"
   ]
  },
  {
   "cell_type": "markdown",
   "id": "8524d47c",
   "metadata": {},
   "source": [
    "> The second function performs better. I think it is because it has fewer for-loops."
   ]
  }
 ],
 "metadata": {
  "kernelspec": {
   "display_name": "Python 3 (ipykernel)",
   "language": "python",
   "name": "python3"
  },
  "language_info": {
   "codemirror_mode": {
    "name": "ipython",
    "version": 3
   },
   "file_extension": ".py",
   "mimetype": "text/x-python",
   "name": "python",
   "nbconvert_exporter": "python",
   "pygments_lexer": "ipython3",
   "version": "3.9.12"
  }
 },
 "nbformat": 4,
 "nbformat_minor": 5
}
